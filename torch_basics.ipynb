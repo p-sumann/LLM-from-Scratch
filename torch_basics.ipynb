{
 "cells": [
  {
   "cell_type": "code",
   "execution_count": 1,
   "metadata": {},
   "outputs": [],
   "source": [
    "import torch"
   ]
  },
  {
   "cell_type": "code",
   "execution_count": 4,
   "metadata": {},
   "outputs": [
    {
     "data": {
      "text/plain": [
       "_CudaDeviceProperties(name='NVIDIA GeForce GTX 1650', major=7, minor=5, total_memory=4095MB, multi_processor_count=16)"
      ]
     },
     "execution_count": 4,
     "metadata": {},
     "output_type": "execute_result"
    }
   ],
   "source": [
    "torch.cuda.get_device_properties(device)"
   ]
  },
  {
   "cell_type": "code",
   "execution_count": 2,
   "metadata": {},
   "outputs": [
    {
     "name": "stdout",
     "output_type": "stream",
     "text": [
      "cuda\n"
     ]
    }
   ],
   "source": [
    "device = 'cuda' if torch.cuda.is_available() else 'cpu'\n",
    "print(device)"
   ]
  },
  {
   "cell_type": "code",
   "execution_count": 14,
   "metadata": {},
   "outputs": [
    {
     "data": {
      "text/plain": [
       "tensor(21.4304)"
      ]
     },
     "execution_count": 14,
     "metadata": {},
     "output_type": "execute_result"
    }
   ],
   "source": [
    "torch.rand_like(torch.Tensor(100)).dot(torch.rand_like(torch.Tensor(100)))"
   ]
  },
  {
   "cell_type": "code",
   "execution_count": null,
   "metadata": {},
   "outputs": [],
   "source": []
  },
  {
   "cell_type": "code",
   "execution_count": 13,
   "metadata": {},
   "outputs": [
    {
     "data": {
      "text/plain": [
       "tensor([0, 1, 2, 3, 4])"
      ]
     },
     "execution_count": 13,
     "metadata": {},
     "output_type": "execute_result"
    }
   ],
   "source": [
    "torch.arange(5)"
   ]
  },
  {
   "cell_type": "code",
   "execution_count": 13,
   "metadata": {},
   "outputs": [
    {
     "data": {
      "text/plain": [
       "tensor([ 1.,  9., 17.])"
      ]
     },
     "execution_count": 13,
     "metadata": {},
     "output_type": "execute_result"
    }
   ],
   "source": [
    "torch.linspace(1, 17, steps=3)"
   ]
  },
  {
   "cell_type": "code",
   "execution_count": 14,
   "metadata": {},
   "outputs": [
    {
     "data": {
      "text/plain": [
       "tensor([1.0000e-10, 1.0000e-05, 1.0000e+00, 1.0000e+05, 1.0000e+10])"
      ]
     },
     "execution_count": 14,
     "metadata": {},
     "output_type": "execute_result"
    }
   ],
   "source": [
    "torch.logspace(-10, 10, steps=5)"
   ]
  },
  {
   "cell_type": "code",
   "execution_count": 15,
   "metadata": {},
   "outputs": [
    {
     "data": {
      "text/plain": [
       "tensor([[1., 0., 0., 0., 0.],\n",
       "        [0., 1., 0., 0., 0.],\n",
       "        [0., 0., 1., 0., 0.],\n",
       "        [0., 0., 0., 1., 0.],\n",
       "        [0., 0., 0., 0., 1.]])"
      ]
     },
     "execution_count": 15,
     "metadata": {},
     "output_type": "execute_result"
    }
   ],
   "source": [
    "torch.eye(5)"
   ]
  },
  {
   "cell_type": "code",
   "execution_count": 21,
   "metadata": {},
   "outputs": [
    {
     "name": "stdout",
     "output_type": "stream",
     "text": [
      "0.14883637\n"
     ]
    }
   ],
   "source": [
    "\n",
    "import time\n",
    "rand1 = torch.rand(100, 100, 100, 100).to(device)\n",
    "rand2 = torch.rand(100, 100, 100, 100).to(device)\n",
    "\n",
    "\n",
    "start = time.time()\n",
    "\n",
    "rand1 @ rand2\n",
    "\n",
    "end = time.time()\n",
    "\n",
    "print(f'{end-start:.8f}')"
   ]
  },
  {
   "cell_type": "code",
   "execution_count": 23,
   "metadata": {},
   "outputs": [
    {
     "name": "stdout",
     "output_type": "stream",
     "text": [
      "CPU times: total: 469 ms\n",
      "Wall time: 1.4 s\n"
     ]
    }
   ],
   "source": [
    "%%time\n",
    "rand1 = torch.rand(100,100, 100,100).to(device)\n",
    "rand2 = torch.rand(100,100,100,100).to(device)\n",
    "\n",
    "x = rand1 @ rand2"
   ]
  },
  {
   "cell_type": "code",
   "execution_count": 24,
   "metadata": {},
   "outputs": [],
   "source": [
    "prob = torch.tensor([0.1, 0.9])"
   ]
  },
  {
   "cell_type": "code",
   "execution_count": 25,
   "metadata": {},
   "outputs": [
    {
     "data": {
      "text/plain": [
       "tensor([0.1000, 0.9000])"
      ]
     },
     "execution_count": 25,
     "metadata": {},
     "output_type": "execute_result"
    }
   ],
   "source": [
    "prob"
   ]
  },
  {
   "cell_type": "code",
   "execution_count": 27,
   "metadata": {},
   "outputs": [
    {
     "data": {
      "text/plain": [
       "tensor([1, 1, 1, 1, 1, 1, 1, 1, 1, 1])"
      ]
     },
     "execution_count": 27,
     "metadata": {},
     "output_type": "execute_result"
    }
   ],
   "source": [
    "samples = torch.multinomial(prob,num_samples=10, replacement=True)\n",
    "samples"
   ]
  },
  {
   "cell_type": "code",
   "execution_count": 41,
   "metadata": {},
   "outputs": [],
   "source": [
    "x = torch.tensor([1,2,3])\n",
    "tesnor = torch.cat((x,torch.tensor([3])), dim=0)"
   ]
  },
  {
   "cell_type": "code",
   "execution_count": 39,
   "metadata": {},
   "outputs": [
    {
     "data": {
      "text/plain": [
       "tensor([1, 2, 3, 3])"
      ]
     },
     "execution_count": 39,
     "metadata": {},
     "output_type": "execute_result"
    }
   ],
   "source": [
    "tesnor"
   ]
  },
  {
   "cell_type": "code",
   "execution_count": 45,
   "metadata": {},
   "outputs": [
    {
     "data": {
      "text/plain": [
       "tensor([[0.7792, 0.0000, 0.0000],\n",
       "        [0.9910, 0.7106, 0.0000],\n",
       "        [0.0118, 0.4734, 0.2907]])"
      ]
     },
     "execution_count": 45,
     "metadata": {},
     "output_type": "execute_result"
    }
   ],
   "source": [
    "torch.tril(torch.rand(3,3))"
   ]
  },
  {
   "cell_type": "code",
   "execution_count": 47,
   "metadata": {},
   "outputs": [
    {
     "data": {
      "text/plain": [
       "tensor([[1., 1., 1., 1.],\n",
       "        [0., 1., 1., 1.],\n",
       "        [0., 0., 1., 1.],\n",
       "        [0., 0., 0., 1.]])"
      ]
     },
     "execution_count": 47,
     "metadata": {},
     "output_type": "execute_result"
    }
   ],
   "source": [
    "torch.triu(torch.ones(4,4))"
   ]
  },
  {
   "cell_type": "code",
   "execution_count": 54,
   "metadata": {},
   "outputs": [
    {
     "data": {
      "text/plain": [
       "tensor([1.])"
      ]
     },
     "execution_count": 54,
     "metadata": {},
     "output_type": "execute_result"
    }
   ],
   "source": [
    "torch.exp(torch.tensor([0]))"
   ]
  },
  {
   "cell_type": "code",
   "execution_count": 55,
   "metadata": {},
   "outputs": [],
   "source": [
    "x = torch.zeros(2,3,4)"
   ]
  },
  {
   "cell_type": "code",
   "execution_count": 56,
   "metadata": {},
   "outputs": [
    {
     "data": {
      "text/plain": [
       "tensor([[[0., 0., 0., 0.],\n",
       "         [0., 0., 0., 0.],\n",
       "         [0., 0., 0., 0.]],\n",
       "\n",
       "        [[0., 0., 0., 0.],\n",
       "         [0., 0., 0., 0.],\n",
       "         [0., 0., 0., 0.]]])"
      ]
     },
     "execution_count": 56,
     "metadata": {},
     "output_type": "execute_result"
    }
   ],
   "source": [
    "x"
   ]
  },
  {
   "cell_type": "code",
   "execution_count": 64,
   "metadata": {},
   "outputs": [
    {
     "data": {
      "text/plain": [
       "tensor([[[0., 0.],\n",
       "         [0., 0.],\n",
       "         [0., 0.]],\n",
       "\n",
       "        [[0., 0.],\n",
       "         [0., 0.],\n",
       "         [0., 0.]],\n",
       "\n",
       "        [[0., 0.],\n",
       "         [0., 0.],\n",
       "         [0., 0.]],\n",
       "\n",
       "        [[0., 0.],\n",
       "         [0., 0.],\n",
       "         [0., 0.]]])"
      ]
     },
     "execution_count": 64,
     "metadata": {},
     "output_type": "execute_result"
    }
   ],
   "source": [
    "x.transpose(0,2)"
   ]
  },
  {
   "cell_type": "code",
   "execution_count": 65,
   "metadata": {},
   "outputs": [],
   "source": [
    "a = torch.tensor([1,2,3])\n",
    "b = torch.tensor([1, 2,3])\n",
    "c = torch.tensor([1, 2,3])"
   ]
  },
  {
   "cell_type": "code",
   "execution_count": 67,
   "metadata": {},
   "outputs": [
    {
     "data": {
      "text/plain": [
       "tensor([[1, 2, 3],\n",
       "        [1, 2, 3],\n",
       "        [1, 2, 3]])"
      ]
     },
     "execution_count": 67,
     "metadata": {},
     "output_type": "execute_result"
    }
   ],
   "source": [
    "torch.stack([a,b,c])"
   ]
  },
  {
   "cell_type": "code",
   "execution_count": 68,
   "metadata": {},
   "outputs": [],
   "source": [
    "import torch.nn as nn"
   ]
  },
  {
   "cell_type": "code",
   "execution_count": 84,
   "metadata": {},
   "outputs": [],
   "source": [
    "sample = torch.tensor([10.,10.,10.])\n",
    "\n",
    "lm = nn.Linear(3,3,bias=False)"
   ]
  },
  {
   "cell_type": "code",
   "execution_count": 85,
   "metadata": {},
   "outputs": [
    {
     "name": "stdout",
     "output_type": "stream",
     "text": [
      "tensor([-11.5261,   0.9135,  -5.4973], grad_fn=<SqueezeBackward4>)\n"
     ]
    }
   ],
   "source": [
    "print(lm(sample))"
   ]
  },
  {
   "cell_type": "code",
   "execution_count": 86,
   "metadata": {},
   "outputs": [],
   "source": [
    "import torch.nn.functional as F"
   ]
  },
  {
   "cell_type": "code",
   "execution_count": 89,
   "metadata": {},
   "outputs": [
    {
     "name": "stderr",
     "output_type": "stream",
     "text": [
      "C:\\Users\\SumanPaudel\\AppData\\Local\\Temp\\ipykernel_5928\\3297064524.py:3: UserWarning: Implicit dimension choice for softmax has been deprecated. Change the call to include dim=X as an argument.\n",
      "  F.softmax(tesnor1)\n"
     ]
    },
    {
     "data": {
      "text/plain": [
       "tensor([0.0900, 0.2447, 0.6652])"
      ]
     },
     "execution_count": 89,
     "metadata": {},
     "output_type": "execute_result"
    }
   ],
   "source": [
    "tesnor1 = torch.tensor([1.0,2.0,3.0])\n",
    "\n",
    "F.softmax(tesnor1)"
   ]
  },
  {
   "cell_type": "code",
   "execution_count": 97,
   "metadata": {},
   "outputs": [
    {
     "data": {
      "text/plain": [
       "tensor([0.0900, 0.2447, 0.6652])"
      ]
     },
     "execution_count": 97,
     "metadata": {},
     "output_type": "execute_result"
    }
   ],
   "source": [
    "torch.exp(tesnor1) / torch.sum(torch.exp(tesnor1))"
   ]
  },
  {
   "cell_type": "code",
   "execution_count": 107,
   "metadata": {},
   "outputs": [],
   "source": [
    "vocab_size = 1000\n",
    "vector_dim = 100"
   ]
  },
  {
   "cell_type": "code",
   "execution_count": 108,
   "metadata": {},
   "outputs": [],
   "source": [
    "embedding = nn.Embedding(vocab_size, vector_dim)"
   ]
  },
  {
   "cell_type": "code",
   "execution_count": 109,
   "metadata": {},
   "outputs": [
    {
     "data": {
      "text/plain": [
       "tensor([[ 1.0029, -0.2383, -1.2281,  0.6995,  1.3561,  0.0992, -0.8799, -1.1418,\n",
       "         -0.7644, -1.2743,  0.2420, -0.1390, -0.6689,  1.0799, -0.3077, -0.7729,\n",
       "         -0.2334, -0.2398, -0.8008,  1.1062, -1.2771, -0.6569, -0.6255,  0.5235,\n",
       "         -0.4018,  0.0392, -0.2078,  0.2449,  1.2342,  1.3092,  1.0960, -0.2186,\n",
       "         -1.0587, -0.6720, -0.3466,  0.7763, -0.0212,  0.9277, -0.4611, -1.5542,\n",
       "         -0.4530, -0.1249,  0.0665, -0.7907, -0.4418,  0.2720,  1.3648, -1.1435,\n",
       "          0.5010, -0.7551, -0.2913, -0.6390,  0.5304, -0.0974, -0.3779, -0.2026,\n",
       "         -1.5298, -0.1456, -1.2555, -1.1935, -1.5656,  1.0619, -0.2370,  1.6061,\n",
       "          0.2858, -1.7269, -1.8220,  0.8279,  0.5447,  0.0492, -0.6256, -1.3844,\n",
       "         -0.6962, -0.5609, -0.5321,  0.4143, -0.9208,  1.2481, -0.6144,  1.0701,\n",
       "          0.2949, -0.9685,  1.0932,  0.1996, -0.2055,  0.1156,  0.7883,  1.1055,\n",
       "          0.9496,  0.2062, -0.3972, -0.2724, -0.5258,  0.9084, -0.5501, -0.3903,\n",
       "         -0.0465,  1.0971,  1.4024,  1.4635],\n",
       "        [-1.5499,  1.4260, -1.6092,  0.0609, -0.6347, -0.2614,  1.5416,  0.8618,\n",
       "          0.2986, -1.0119,  0.0700,  1.6350,  1.1617,  0.1798, -0.8773, -0.1735,\n",
       "         -0.3036,  0.2070, -0.7475, -0.1059, -0.1810, -1.4757, -0.3752, -0.6543,\n",
       "          0.8451, -1.3604,  0.1404, -0.0782,  1.1796,  0.7752,  0.8371,  0.9164,\n",
       "         -0.7276,  0.1352, -0.1068,  2.0366, -0.0460,  0.6715, -0.9632, -0.5203,\n",
       "          1.5765, -0.3322, -0.8866, -0.6060, -1.3392,  0.2807, -2.1873,  0.8133,\n",
       "         -0.7351, -1.2209, -0.7443, -0.8455, -0.8838, -0.2674, -0.5722, -0.6539,\n",
       "         -1.1921,  0.7277,  0.2650, -0.1717,  0.6492, -0.8481, -0.4599,  0.7793,\n",
       "          0.7736, -0.1779, -0.3999, -0.3177, -0.2610, -0.1484,  0.9757,  0.7866,\n",
       "          0.2190,  0.8155, -0.3236,  1.4061,  0.5791, -0.5160, -0.4708,  0.8126,\n",
       "         -2.0124,  0.4047,  0.4296,  1.4388, -1.0558,  0.0169,  1.3210,  0.4705,\n",
       "          1.4260,  0.7702, -0.3965,  0.6872,  1.2503, -0.1467, -0.0677, -0.7630,\n",
       "          1.6746,  1.2769,  0.1834, -0.6147],\n",
       "        [ 1.9892,  0.4768, -0.2404, -0.3324, -0.5033, -0.3656,  0.0068, -0.6875,\n",
       "         -1.0340,  1.4202, -0.4940, -0.2451, -0.1991,  0.4630,  0.4542, -0.4145,\n",
       "         -0.1647,  0.2556,  0.3653, -1.2252,  1.0186, -2.8959,  0.1109,  1.3192,\n",
       "          0.3901, -2.0603, -0.7623, -0.6334,  1.1999,  1.2393,  0.9474,  0.0662,\n",
       "         -2.4863,  2.0194, -0.7580, -1.0211, -0.7706, -0.4731,  0.8291, -0.7368,\n",
       "          1.1656, -0.3141,  0.2243, -1.0108,  1.8579,  0.3775,  0.5213,  0.9095,\n",
       "         -0.4914,  0.5600,  0.8401, -1.4649,  1.9462, -0.7971, -0.2275,  0.3145,\n",
       "         -0.2134, -0.6502, -2.1363, -0.7395,  1.3547, -0.5378,  1.4032,  0.1960,\n",
       "         -0.0376, -0.1758,  1.4519, -0.8904, -0.7077, -1.4684, -1.3758, -0.6050,\n",
       "         -0.7583, -0.1747, -1.2103, -2.0328,  0.4103,  1.9603,  0.6547,  1.2329,\n",
       "         -1.3534, -1.0509, -0.7755, -0.5634,  0.2082, -0.1890,  0.3238,  0.9294,\n",
       "         -1.6648, -1.0987,  1.3975,  1.4340,  0.9974,  0.1308, -0.7914, -0.4948,\n",
       "         -1.0073, -0.2582,  1.6885, -1.4866],\n",
       "        [-0.3816, -0.7579,  0.1954,  0.4261, -0.2716, -2.1374,  0.5785,  0.8684,\n",
       "         -0.3454,  1.0486, -0.2545,  0.6178,  1.6280, -1.8140, -1.3785, -0.7056,\n",
       "          0.7754, -0.4208, -1.4542, -0.0901,  0.4492, -1.4907, -0.1690,  0.2374,\n",
       "         -0.2277, -0.9536, -0.5792,  2.1012, -0.2380, -0.7634,  0.0199, -1.1207,\n",
       "         -0.0601, -0.2786, -0.9239, -1.6885, -0.0434,  0.6184,  0.3759,  0.6388,\n",
       "         -1.0355,  0.2648,  0.4953,  1.1887, -0.3927, -0.2246, -2.9066, -0.5247,\n",
       "          0.4892,  0.1675,  0.4455,  0.5484, -0.8036, -0.9071,  1.7315,  1.4198,\n",
       "          1.5220,  0.4048, -1.0842, -2.2945,  0.7212,  1.5067, -0.9943,  1.3356,\n",
       "         -0.4861, -0.7841,  0.7633, -0.2428,  2.2477, -0.6320,  2.0404, -0.8850,\n",
       "          0.4263,  0.2095,  0.7168, -0.1404,  1.2925, -0.1352, -0.9123,  0.4313,\n",
       "          1.5951, -0.2145,  0.0080,  0.2379,  0.5841, -1.0137,  0.7970, -0.0222,\n",
       "          0.1640,  1.3189,  1.7667, -0.2211,  2.1860,  0.3462,  0.2751, -0.9130,\n",
       "          0.1475, -2.3830,  0.4898, -0.4532]], grad_fn=<EmbeddingBackward0>)"
      ]
     },
     "execution_count": 109,
     "metadata": {},
     "output_type": "execute_result"
    }
   ],
   "source": [
    "embedding(torch.LongTensor([1,3,4,5]))"
   ]
  },
  {
   "cell_type": "code",
   "execution_count": null,
   "metadata": {},
   "outputs": [],
   "source": []
  }
 ],
 "metadata": {
  "kernelspec": {
   "display_name": "Python 3",
   "language": "python",
   "name": "python3"
  },
  "language_info": {
   "codemirror_mode": {
    "name": "ipython",
    "version": 3
   },
   "file_extension": ".py",
   "mimetype": "text/x-python",
   "name": "python",
   "nbconvert_exporter": "python",
   "pygments_lexer": "ipython3",
   "version": "3.12.3"
  }
 },
 "nbformat": 4,
 "nbformat_minor": 2
}
